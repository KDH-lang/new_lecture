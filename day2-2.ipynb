{
 "cells": [
  {
   "cell_type": "code",
   "execution_count": 10,
   "id": "ac7ad4c6",
   "metadata": {},
   "outputs": [
    {
     "name": "stdout",
     "output_type": "stream",
     "text": [
      "1는 홀수입니다.\n",
      "2는 짝수입니다.\n",
      "3는 홀수입니다.\n",
      "4는 짝수입니다.\n",
      "5는 홀수입니다.\n",
      "6는 짝수입니다.\n",
      "7는 홀수입니다.\n",
      "8는 짝수입니다.\n",
      "9는 홀수입니다.\n",
      "10는 짝수입니다.\n"
     ]
    }
   ],
   "source": [
    "# 반복문\n",
    "# 추가\n",
    "for i in range(1, 11):\n",
    "    if i % 2 == 0:\n",
    "        print(f\"{i}는 짝수입니다.\")\n",
    "    else:\n",
    "        print(f\"{i}는 홀수입니다.\")"
   ]
  },
  {
   "cell_type": "code",
   "execution_count": 11,
   "id": "8e79f3cb",
   "metadata": {},
   "outputs": [
    {
     "name": "stdout",
     "output_type": "stream",
     "text": [
      "0\n",
      "특정 로직을 순환할 때\n",
      "1\n",
      "특정 로직을 순환할 때\n",
      "2\n",
      "특정 로직을 순환할 때\n",
      "3\n",
      "특정 로직을 순환할 때\n",
      "4\n",
      "특정 로직을 순환할 때\n",
      "5\n",
      "특정 로직을 순환할 때\n",
      "6\n",
      "특정 로직을 순환할 때\n",
      "7\n",
      "특정 로직을 순환할 때\n",
      "8\n",
      "특정 로직을 순환할 때\n",
      "9\n",
      "특정 로직을 순환할 때\n"
     ]
    }
   ],
   "source": [
    "for i in range(10):\n",
    "    print(i)\n",
    "    print('특정 로직을 순환할 때')\n"
   ]
  },
  {
   "cell_type": "code",
   "execution_count": null,
   "id": "9aed3557",
   "metadata": {},
   "outputs": [
    {
     "name": "stdout",
     "output_type": "stream",
     "text": [
      "1는 홀수입니다.\n",
      "5는 홀수입니다.\n",
      "7는 홀수입니다.\n",
      "9는 홀수입니다.\n",
      "10는 짝수입니다.\n",
      "12는 짝수입니다.\n",
      "14는 짝수입니다.\n",
      "15는 홀수입니다.\n",
      "16는 짝수입니다.\n",
      "18는 짝수입니다.\n",
      "20는 짝수입니다.\n"
     ]
    }
   ],
   "source": [
    "sample1 = [1,5,7,9, 10, 12, 14, 15, 16, 18, 20]\n",
    "sample2 = []\n",
    "# sample1 리스트의 요소를 순회하면서 짝수와 홀수를 구분하여 출력\n",
    "for i in sample1:\n",
    "    if i % 2 == 0:\n",
    "        print(f\"{i}는 짝수입니다.\")\n",
    "    else:        print(f\"{i}는 홀수입니다.\")"
   ]
  },
  {
   "cell_type": "code",
   "execution_count": 14,
   "id": "af371b50",
   "metadata": {},
   "outputs": [
    {
     "name": "stdout",
     "output_type": "stream",
     "text": [
      "짝수 리스트: [10, 12, 14, 16, 18, 20]\n"
     ]
    }
   ],
   "source": [
    "sample1 = [1,5,7,9, 10, 12, 14, 15, 16, 18, 20]\n",
    "sample2 = []\n",
    "# sample1 리스트의 요소를 순회하면서 짝수와 홀수를 구분하여 출력\n",
    "for i in sample1:\n",
    "    if i % 2 == 0:\n",
    "        sample2.append(i)\n",
    "sample2.sort()\n",
    "print(f\"짝수 리스트: {sample2}\")"
   ]
  },
  {
   "cell_type": "code",
   "execution_count": 16,
   "id": "ea401ff2",
   "metadata": {},
   "outputs": [
    {
     "name": "stdout",
     "output_type": "stream",
     "text": [
      "[1, 5, 10]\n"
     ]
    }
   ],
   "source": [
    "sample3 = (1,2,3,4,5,6,7,8,9,10)\n",
    "sample4 = []\n",
    "for i in sample3:\n",
    "    if i in [1,5,10,10,15]:\n",
    "        sample4.append(i)\n",
    "\n",
    "print(sample4)"
   ]
  },
  {
   "cell_type": "markdown",
   "id": "c63b1af3",
   "metadata": {},
   "source": [
    "While 반복문"
   ]
  },
  {
   "cell_type": "code",
   "execution_count": 17,
   "id": "19e8a7db",
   "metadata": {},
   "outputs": [
    {
     "name": "stdout",
     "output_type": "stream",
     "text": [
      "2 X 1 = 2\n",
      "2 X 2 = 4\n",
      "2 X 3 = 6\n",
      "2 X 4 = 8\n",
      "2 X 5 = 10\n",
      "2 X 6 = 12\n",
      "2 X 7 = 14\n",
      "2 X 8 = 16\n",
      "2 X 9 = 18\n"
     ]
    }
   ],
   "source": [
    "for i in range(1,10): # 1~9\n",
    "    print(f'2 X {i} = {2 * i}')\n",
    "    "
   ]
  },
  {
   "cell_type": "code",
   "execution_count": 19,
   "id": "c14eee0c",
   "metadata": {},
   "outputs": [
    {
     "name": "stdout",
     "output_type": "stream",
     "text": [
      "안녕하세요\n",
      "안녕하세요\n",
      "안녕하세요\n",
      "안녕하세요\n",
      "안녕하세요\n"
     ]
    }
   ],
   "source": [
    "count = 0\n",
    "while count < 5:\n",
    "    print('안녕하세요')\n",
    "    count = count + 1\n",
    "    "
   ]
  },
  {
   "cell_type": "code",
   "execution_count": 23,
   "id": "0b94405d",
   "metadata": {},
   "outputs": [
    {
     "name": "stdout",
     "output_type": "stream",
     "text": [
      "i: 2, j: 1, 안녕하세요\n",
      "i: 2, j: 2, 안녕하세요\n",
      "i: 2, j: 3, 안녕하세요\n",
      "i: 2, j: 4, 안녕하세요\n",
      "i: 2, j: 5, 안녕하세요\n",
      "i: 2, j: 6, 안녕하세요\n",
      "i: 2, j: 7, 안녕하세요\n",
      "i: 2, j: 8, 안녕하세요\n",
      "i: 2, j: 9, 안녕하세요\n",
      "i: 3, j: 1, 안녕하세요\n",
      "i: 3, j: 2, 안녕하세요\n",
      "i: 3, j: 3, 안녕하세요\n",
      "i: 3, j: 4, 안녕하세요\n",
      "i: 3, j: 5, 안녕하세요\n",
      "i: 3, j: 6, 안녕하세요\n",
      "i: 3, j: 7, 안녕하세요\n",
      "i: 3, j: 8, 안녕하세요\n",
      "i: 3, j: 9, 안녕하세요\n",
      "i: 4, j: 1, 안녕하세요\n",
      "i: 4, j: 2, 안녕하세요\n",
      "i: 4, j: 3, 안녕하세요\n",
      "i: 4, j: 4, 안녕하세요\n",
      "i: 4, j: 5, 안녕하세요\n",
      "i: 4, j: 6, 안녕하세요\n",
      "i: 4, j: 7, 안녕하세요\n",
      "i: 4, j: 8, 안녕하세요\n",
      "i: 4, j: 9, 안녕하세요\n",
      "i: 5, j: 1, 안녕하세요\n",
      "i: 5, j: 2, 안녕하세요\n",
      "i: 5, j: 3, 안녕하세요\n",
      "i: 5, j: 4, 안녕하세요\n",
      "i: 5, j: 5, 안녕하세요\n",
      "i: 5, j: 6, 안녕하세요\n",
      "i: 5, j: 7, 안녕하세요\n",
      "i: 5, j: 8, 안녕하세요\n",
      "i: 5, j: 9, 안녕하세요\n",
      "i: 6, j: 1, 안녕하세요\n",
      "i: 6, j: 2, 안녕하세요\n",
      "i: 6, j: 3, 안녕하세요\n",
      "i: 6, j: 4, 안녕하세요\n",
      "i: 6, j: 5, 안녕하세요\n",
      "i: 6, j: 6, 안녕하세요\n",
      "i: 6, j: 7, 안녕하세요\n",
      "i: 6, j: 8, 안녕하세요\n",
      "i: 6, j: 9, 안녕하세요\n",
      "i: 7, j: 1, 안녕하세요\n",
      "i: 7, j: 2, 안녕하세요\n",
      "i: 7, j: 3, 안녕하세요\n",
      "i: 7, j: 4, 안녕하세요\n",
      "i: 7, j: 5, 안녕하세요\n",
      "i: 7, j: 6, 안녕하세요\n",
      "i: 7, j: 7, 안녕하세요\n",
      "i: 7, j: 8, 안녕하세요\n",
      "i: 7, j: 9, 안녕하세요\n",
      "i: 8, j: 1, 안녕하세요\n",
      "i: 8, j: 2, 안녕하세요\n",
      "i: 8, j: 3, 안녕하세요\n",
      "i: 8, j: 4, 안녕하세요\n",
      "i: 8, j: 5, 안녕하세요\n",
      "i: 8, j: 6, 안녕하세요\n",
      "i: 8, j: 7, 안녕하세요\n",
      "i: 8, j: 8, 안녕하세요\n",
      "i: 8, j: 9, 안녕하세요\n",
      "i: 9, j: 1, 안녕하세요\n",
      "i: 9, j: 2, 안녕하세요\n",
      "i: 9, j: 3, 안녕하세요\n",
      "i: 9, j: 4, 안녕하세요\n",
      "i: 9, j: 5, 안녕하세요\n",
      "i: 9, j: 6, 안녕하세요\n",
      "i: 9, j: 7, 안녕하세요\n",
      "i: 9, j: 8, 안녕하세요\n",
      "i: 9, j: 9, 안녕하세요\n"
     ]
    }
   ],
   "source": [
    "for i in range(2,10):\n",
    "    for j in range(1,10):\n",
    "        print(f'i: {i}, j: {j}, 안녕하세요')"
   ]
  },
  {
   "cell_type": "code",
   "execution_count": null,
   "id": "9bfd8821",
   "metadata": {},
   "outputs": [
    {
     "data": {
      "text/plain": [
       "[78, 92, 44, 56, 60, 6, 24, 48, 8, 57]"
      ]
     },
     "execution_count": 25,
     "metadata": {},
     "output_type": "execute_result"
    }
   ],
   "source": [
    "import random\n",
    "random.sample(range(100), 10) # 0~99 사이의 숫자 중 10개를 랜덤하게 추출\n"
   ]
  },
  {
   "cell_type": "code",
   "execution_count": null,
   "id": "84262a1d",
   "metadata": {},
   "outputs": [
    {
     "name": "stdout",
     "output_type": "stream",
     "text": [
      "[238, 178, 168, 206, 921, 349, 564, 443, 540, 26, 24, 690, 550, 153, 459, 514, 472, 348, 83, 496]\n"
     ]
    },
    {
     "data": {
      "text/plain": [
       "[238, 178, 168, 206, 564, 540, 26, 24, 690, 550, 514, 472, 348, 496]"
      ]
     },
     "execution_count": 81,
     "metadata": {},
     "output_type": "execute_result"
    }
   ],
   "source": [
    "# 랜덤한 샘플데이터\n",
    "samples = random.sample(range(1000), 20)\n",
    "samples[:5]\n",
    "print(samples)\n",
    "# 짝수만 추출해서 변수에 저장\n",
    "even_lists = []\n",
    "for i in samples:\n",
    "    if i % 2 == 0:\n",
    "        even_lists.append(i)\n",
    "\n",
    "even_lists\n"
   ]
  },
  {
   "cell_type": "code",
   "execution_count": null,
   "id": "cb9b352c",
   "metadata": {},
   "outputs": [],
   "source": []
  }
 ],
 "metadata": {
  "kernelspec": {
   "display_name": "Python 3",
   "language": "python",
   "name": "python3"
  },
  "language_info": {
   "codemirror_mode": {
    "name": "ipython",
    "version": 3
   },
   "file_extension": ".py",
   "mimetype": "text/x-python",
   "name": "python",
   "nbconvert_exporter": "python",
   "pygments_lexer": "ipython3",
   "version": "3.11.9"
  }
 },
 "nbformat": 4,
 "nbformat_minor": 5
}
